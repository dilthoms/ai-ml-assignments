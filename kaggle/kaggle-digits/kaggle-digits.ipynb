{
  "nbformat": 4,
  "nbformat_minor": 0,
  "metadata": {
    "colab": {
      "name": "kaggle-digits.ipynb",
      "version": "0.3.2",
      "provenance": []
    },
    "kernelspec": {
      "display_name": "Python 3",
      "name": "python3"
    }
  },
  "cells": [
    {
      "metadata": {
        "colab_type": "text",
        "id": "soMh_oOhlHD3"
      },
      "cell_type": "markdown",
      "source": [
        "# 1. Setup kaggle cli and download dataset in google colab\n",
        "\n",
        "Since all data is lost when google colab session ends, the six steps given below will download dataset from kaggle and save you from the trouble of downloading the dataset everytime. The first two steps below have to be done manually the first time. After that the rest of the steps can be executed by running the three cells (steps 3-6) below. You have to run these three cells to download the dataset everytime you start a new session. \n",
        "  \n",
        "\n",
        "1. Download / create json credentials after creating an account in kaggle.  See https://github.com/Kaggle/kaggle-api for more details\n",
        "2. Upload the kaggle.json file to your google drive\n",
        "3. Run the script in the first cell below to download kaggle.json  to your colab environment\n",
        "4. It will ask you to click on a link and enter the verification code\n",
        "5. Install kaggle cli using pip install\n",
        "6. Download the dataset\n",
        "\n",
        "\n"
      ]
    },
    {
      "metadata": {
        "colab_type": "code",
        "id": "zUM5cK52lHD6",
        "outputId": "733a923f-5376-4d5c-f021-30e1c4f22732",
        "colab": {
          "base_uri": "https://localhost:8080/",
          "height": 35
        }
      },
      "cell_type": "code",
      "source": [
        "# Code from https://medium.com/@move37timm/using-kaggle-api-for-google-colaboratory-d18645f93648\n",
        "# Create kaggle.json by following instructions at https://github.com/Kaggle/kaggle-api\n",
        "# Upload kaggle.json to google drive\n",
        "# Download kaggle.json to colab from the users google drive\n",
        "\n",
        "from googleapiclient.discovery import build\n",
        "import io, os\n",
        "from googleapiclient.http import MediaIoBaseDownload\n",
        "from google.colab import auth\n",
        "auth.authenticate_user()\n",
        "drive_service = build('drive', 'v3')\n",
        "results = drive_service.files().list(\n",
        "        q=\"name = 'kaggle.json'\", fields=\"files(id)\").execute()\n",
        "kaggle_api_key = results.get('files', [])\n",
        "filename = \"/root/.kaggle/kaggle.json\"\n",
        "if not os.path.exists(os.path.dirname(filename)):\n",
        "  os.makedirs(os.path.dirname(filename))\n",
        "request = drive_service.files().get_media(fileId=kaggle_api_key[0]['id'])\n",
        "fh = io.FileIO(filename, 'wb')\n",
        "downloader = MediaIoBaseDownload(fh, request)\n",
        "done = False\n",
        "while done is False:\n",
        "    status, done = downloader.next_chunk()\n",
        "    print(\"Download %d%%.\" % int(status.progress() * 100))\n",
        "os.chmod(filename, 600)"
      ],
      "execution_count": 1,
      "outputs": [
        {
          "output_type": "stream",
          "text": [
            "Download 100%.\n"
          ],
          "name": "stdout"
        }
      ]
    },
    {
      "metadata": {
        "colab_type": "code",
        "id": "9KPWpND0lHD-",
        "outputId": "22d392ca-506b-4d48-94ec-a086486adef3",
        "colab": {
          "base_uri": "https://localhost:8080/",
          "height": 215
        }
      },
      "cell_type": "code",
      "source": [
        "# Install kaggle cli\n",
        "!pip install kaggle"
      ],
      "execution_count": 2,
      "outputs": [
        {
          "output_type": "stream",
          "text": [
            "Requirement already satisfied: kaggle in /usr/local/lib/python3.6/dist-packages (1.5.3)\n",
            "Requirement already satisfied: urllib3<1.25,>=1.21.1 in /usr/local/lib/python3.6/dist-packages (from kaggle) (1.22)\n",
            "Requirement already satisfied: six>=1.10 in /usr/local/lib/python3.6/dist-packages (from kaggle) (1.11.0)\n",
            "Requirement already satisfied: certifi in /usr/local/lib/python3.6/dist-packages (from kaggle) (2019.3.9)\n",
            "Requirement already satisfied: python-dateutil in /usr/local/lib/python3.6/dist-packages (from kaggle) (2.5.3)\n",
            "Requirement already satisfied: requests in /usr/local/lib/python3.6/dist-packages (from kaggle) (2.18.4)\n",
            "Requirement already satisfied: tqdm in /usr/local/lib/python3.6/dist-packages (from kaggle) (4.28.1)\n",
            "Requirement already satisfied: python-slugify in /usr/local/lib/python3.6/dist-packages (from kaggle) (3.0.2)\n",
            "Requirement already satisfied: chardet<3.1.0,>=3.0.2 in /usr/local/lib/python3.6/dist-packages (from requests->kaggle) (3.0.4)\n",
            "Requirement already satisfied: idna<2.7,>=2.5 in /usr/local/lib/python3.6/dist-packages (from requests->kaggle) (2.6)\n",
            "Requirement already satisfied: text-unidecode==1.2 in /usr/local/lib/python3.6/dist-packages (from python-slugify->kaggle) (1.2)\n"
          ],
          "name": "stdout"
        }
      ]
    },
    {
      "metadata": {
        "colab_type": "code",
        "id": "kBU3yAwLlHEB",
        "outputId": "88bfcb48-3893-43b8-9d0f-106f4477a6a3",
        "colab": {
          "base_uri": "https://localhost:8080/",
          "height": 179
        }
      },
      "cell_type": "code",
      "source": [
        "# Download the dataset for digit-recognizer chalenge\n",
        "!kaggle competitions download -c digit-recognizer"
      ],
      "execution_count": 3,
      "outputs": [
        {
          "output_type": "stream",
          "text": [
            "Downloading train.csv to /content\n",
            " 97% 71.0M/73.2M [00:00<00:00, 103MB/s] \n",
            "100% 73.2M/73.2M [00:00<00:00, 136MB/s]\n",
            "Downloading test.csv to /content\n",
            " 82% 40.0M/48.8M [00:00<00:00, 60.9MB/s]\n",
            "100% 48.8M/48.8M [00:00<00:00, 89.5MB/s]\n",
            "Downloading sample_submission.csv to /content\n",
            "  0% 0.00/235k [00:00<?, ?B/s]\n",
            "100% 235k/235k [00:00<00:00, 75.1MB/s]\n"
          ],
          "name": "stdout"
        }
      ]
    },
    {
      "metadata": {
        "id": "ZxHZ6ewrX4sA",
        "colab_type": "text"
      },
      "cell_type": "markdown",
      "source": [
        "# 2. Read data in pandas dataframe\n",
        "1. Check train and test csv files have been downloaded\n",
        "2. import pandas and numpy and create train and test dataframes from the respective csv files\n",
        "3. Inspect the dataframes\n",
        "4. Convert to numpy arrays for train, validation, and test set "
      ]
    },
    {
      "metadata": {
        "id": "SQ8a8xpkX4sB",
        "colab_type": "code",
        "colab": {
          "base_uri": "https://localhost:8080/",
          "height": 125
        },
        "outputId": "e22b8ddb-e5c9-45da-aef7-3d713916b872"
      },
      "cell_type": "code",
      "source": [
        "# Check train and test csv files exist\n",
        "!ls -ltr"
      ],
      "execution_count": 4,
      "outputs": [
        {
          "output_type": "stream",
          "text": [
            "total 125148\n",
            "drwxr-xr-x 1 root root     4096 Apr  4 20:20 sample_data\n",
            "-rw-r--r-- 1 root root     2478 Apr 10 13:11 adc.json\n",
            "-rw-r--r-- 1 root root 76775041 Apr 10 13:12 train.csv\n",
            "-rw-r--r-- 1 root root 51118296 Apr 10 13:12 test.csv\n",
            "-rw-r--r-- 1 root root   240909 Apr 10 13:12 sample_submission.csv\n"
          ],
          "name": "stdout"
        }
      ]
    },
    {
      "metadata": {
        "id": "EDRoZUpkX4sD",
        "colab_type": "code",
        "colab": {}
      },
      "cell_type": "code",
      "source": [
        "# Read the csv files using pandas\n",
        "import pandas as pd\n",
        "import numpy as np\n",
        "df_tr = pd.read_csv('train.csv')\n",
        "df_te = pd.read_csv('test.csv')\n"
      ],
      "execution_count": 0,
      "outputs": []
    },
    {
      "metadata": {
        "id": "hg_CeJieX4sF",
        "colab_type": "code",
        "colab": {
          "base_uri": "https://localhost:8080/",
          "height": 361
        },
        "outputId": "11f50b3e-adfc-47a0-fdd2-4207f4c9ad1d"
      },
      "cell_type": "code",
      "source": [
        "# Examine the contents of train.csv\n",
        "# Contains 28x28 pixel values and the corresponding digit label\n",
        "print (df_tr.info())\n",
        "df_tr.head()\n"
      ],
      "execution_count": 6,
      "outputs": [
        {
          "output_type": "stream",
          "text": [
            "<class 'pandas.core.frame.DataFrame'>\n",
            "RangeIndex: 42000 entries, 0 to 41999\n",
            "Columns: 785 entries, label to pixel783\n",
            "dtypes: int64(785)\n",
            "memory usage: 251.5 MB\n",
            "None\n"
          ],
          "name": "stdout"
        },
        {
          "output_type": "execute_result",
          "data": {
            "text/html": [
              "<div>\n",
              "<style scoped>\n",
              "    .dataframe tbody tr th:only-of-type {\n",
              "        vertical-align: middle;\n",
              "    }\n",
              "\n",
              "    .dataframe tbody tr th {\n",
              "        vertical-align: top;\n",
              "    }\n",
              "\n",
              "    .dataframe thead th {\n",
              "        text-align: right;\n",
              "    }\n",
              "</style>\n",
              "<table border=\"1\" class=\"dataframe\">\n",
              "  <thead>\n",
              "    <tr style=\"text-align: right;\">\n",
              "      <th></th>\n",
              "      <th>label</th>\n",
              "      <th>pixel0</th>\n",
              "      <th>pixel1</th>\n",
              "      <th>pixel2</th>\n",
              "      <th>pixel3</th>\n",
              "      <th>pixel4</th>\n",
              "      <th>pixel5</th>\n",
              "      <th>pixel6</th>\n",
              "      <th>pixel7</th>\n",
              "      <th>pixel8</th>\n",
              "      <th>...</th>\n",
              "      <th>pixel774</th>\n",
              "      <th>pixel775</th>\n",
              "      <th>pixel776</th>\n",
              "      <th>pixel777</th>\n",
              "      <th>pixel778</th>\n",
              "      <th>pixel779</th>\n",
              "      <th>pixel780</th>\n",
              "      <th>pixel781</th>\n",
              "      <th>pixel782</th>\n",
              "      <th>pixel783</th>\n",
              "    </tr>\n",
              "  </thead>\n",
              "  <tbody>\n",
              "    <tr>\n",
              "      <th>0</th>\n",
              "      <td>1</td>\n",
              "      <td>0</td>\n",
              "      <td>0</td>\n",
              "      <td>0</td>\n",
              "      <td>0</td>\n",
              "      <td>0</td>\n",
              "      <td>0</td>\n",
              "      <td>0</td>\n",
              "      <td>0</td>\n",
              "      <td>0</td>\n",
              "      <td>...</td>\n",
              "      <td>0</td>\n",
              "      <td>0</td>\n",
              "      <td>0</td>\n",
              "      <td>0</td>\n",
              "      <td>0</td>\n",
              "      <td>0</td>\n",
              "      <td>0</td>\n",
              "      <td>0</td>\n",
              "      <td>0</td>\n",
              "      <td>0</td>\n",
              "    </tr>\n",
              "    <tr>\n",
              "      <th>1</th>\n",
              "      <td>0</td>\n",
              "      <td>0</td>\n",
              "      <td>0</td>\n",
              "      <td>0</td>\n",
              "      <td>0</td>\n",
              "      <td>0</td>\n",
              "      <td>0</td>\n",
              "      <td>0</td>\n",
              "      <td>0</td>\n",
              "      <td>0</td>\n",
              "      <td>...</td>\n",
              "      <td>0</td>\n",
              "      <td>0</td>\n",
              "      <td>0</td>\n",
              "      <td>0</td>\n",
              "      <td>0</td>\n",
              "      <td>0</td>\n",
              "      <td>0</td>\n",
              "      <td>0</td>\n",
              "      <td>0</td>\n",
              "      <td>0</td>\n",
              "    </tr>\n",
              "    <tr>\n",
              "      <th>2</th>\n",
              "      <td>1</td>\n",
              "      <td>0</td>\n",
              "      <td>0</td>\n",
              "      <td>0</td>\n",
              "      <td>0</td>\n",
              "      <td>0</td>\n",
              "      <td>0</td>\n",
              "      <td>0</td>\n",
              "      <td>0</td>\n",
              "      <td>0</td>\n",
              "      <td>...</td>\n",
              "      <td>0</td>\n",
              "      <td>0</td>\n",
              "      <td>0</td>\n",
              "      <td>0</td>\n",
              "      <td>0</td>\n",
              "      <td>0</td>\n",
              "      <td>0</td>\n",
              "      <td>0</td>\n",
              "      <td>0</td>\n",
              "      <td>0</td>\n",
              "    </tr>\n",
              "    <tr>\n",
              "      <th>3</th>\n",
              "      <td>4</td>\n",
              "      <td>0</td>\n",
              "      <td>0</td>\n",
              "      <td>0</td>\n",
              "      <td>0</td>\n",
              "      <td>0</td>\n",
              "      <td>0</td>\n",
              "      <td>0</td>\n",
              "      <td>0</td>\n",
              "      <td>0</td>\n",
              "      <td>...</td>\n",
              "      <td>0</td>\n",
              "      <td>0</td>\n",
              "      <td>0</td>\n",
              "      <td>0</td>\n",
              "      <td>0</td>\n",
              "      <td>0</td>\n",
              "      <td>0</td>\n",
              "      <td>0</td>\n",
              "      <td>0</td>\n",
              "      <td>0</td>\n",
              "    </tr>\n",
              "    <tr>\n",
              "      <th>4</th>\n",
              "      <td>0</td>\n",
              "      <td>0</td>\n",
              "      <td>0</td>\n",
              "      <td>0</td>\n",
              "      <td>0</td>\n",
              "      <td>0</td>\n",
              "      <td>0</td>\n",
              "      <td>0</td>\n",
              "      <td>0</td>\n",
              "      <td>0</td>\n",
              "      <td>...</td>\n",
              "      <td>0</td>\n",
              "      <td>0</td>\n",
              "      <td>0</td>\n",
              "      <td>0</td>\n",
              "      <td>0</td>\n",
              "      <td>0</td>\n",
              "      <td>0</td>\n",
              "      <td>0</td>\n",
              "      <td>0</td>\n",
              "      <td>0</td>\n",
              "    </tr>\n",
              "  </tbody>\n",
              "</table>\n",
              "<p>5 rows × 785 columns</p>\n",
              "</div>"
            ],
            "text/plain": [
              "   label  pixel0  pixel1  pixel2  pixel3  pixel4  pixel5  pixel6  pixel7  \\\n",
              "0      1       0       0       0       0       0       0       0       0   \n",
              "1      0       0       0       0       0       0       0       0       0   \n",
              "2      1       0       0       0       0       0       0       0       0   \n",
              "3      4       0       0       0       0       0       0       0       0   \n",
              "4      0       0       0       0       0       0       0       0       0   \n",
              "\n",
              "   pixel8    ...     pixel774  pixel775  pixel776  pixel777  pixel778  \\\n",
              "0       0    ...            0         0         0         0         0   \n",
              "1       0    ...            0         0         0         0         0   \n",
              "2       0    ...            0         0         0         0         0   \n",
              "3       0    ...            0         0         0         0         0   \n",
              "4       0    ...            0         0         0         0         0   \n",
              "\n",
              "   pixel779  pixel780  pixel781  pixel782  pixel783  \n",
              "0         0         0         0         0         0  \n",
              "1         0         0         0         0         0  \n",
              "2         0         0         0         0         0  \n",
              "3         0         0         0         0         0  \n",
              "4         0         0         0         0         0  \n",
              "\n",
              "[5 rows x 785 columns]"
            ]
          },
          "metadata": {
            "tags": []
          },
          "execution_count": 6
        }
      ]
    },
    {
      "metadata": {
        "id": "x3VnaQQmX4sH",
        "colab_type": "code",
        "colab": {
          "base_uri": "https://localhost:8080/",
          "height": 361
        },
        "outputId": "8d6297d7-bf1a-4e90-ef95-94d23da9e4ee"
      },
      "cell_type": "code",
      "source": [
        "# Examine the contents of test.csv\n",
        "# Contains only the 28x28 pixel values without the corresponding digit label\n",
        "print (df_te.info())\n",
        "df_te.head()"
      ],
      "execution_count": 7,
      "outputs": [
        {
          "output_type": "stream",
          "text": [
            "<class 'pandas.core.frame.DataFrame'>\n",
            "RangeIndex: 28000 entries, 0 to 27999\n",
            "Columns: 784 entries, pixel0 to pixel783\n",
            "dtypes: int64(784)\n",
            "memory usage: 167.5 MB\n",
            "None\n"
          ],
          "name": "stdout"
        },
        {
          "output_type": "execute_result",
          "data": {
            "text/html": [
              "<div>\n",
              "<style scoped>\n",
              "    .dataframe tbody tr th:only-of-type {\n",
              "        vertical-align: middle;\n",
              "    }\n",
              "\n",
              "    .dataframe tbody tr th {\n",
              "        vertical-align: top;\n",
              "    }\n",
              "\n",
              "    .dataframe thead th {\n",
              "        text-align: right;\n",
              "    }\n",
              "</style>\n",
              "<table border=\"1\" class=\"dataframe\">\n",
              "  <thead>\n",
              "    <tr style=\"text-align: right;\">\n",
              "      <th></th>\n",
              "      <th>pixel0</th>\n",
              "      <th>pixel1</th>\n",
              "      <th>pixel2</th>\n",
              "      <th>pixel3</th>\n",
              "      <th>pixel4</th>\n",
              "      <th>pixel5</th>\n",
              "      <th>pixel6</th>\n",
              "      <th>pixel7</th>\n",
              "      <th>pixel8</th>\n",
              "      <th>pixel9</th>\n",
              "      <th>...</th>\n",
              "      <th>pixel774</th>\n",
              "      <th>pixel775</th>\n",
              "      <th>pixel776</th>\n",
              "      <th>pixel777</th>\n",
              "      <th>pixel778</th>\n",
              "      <th>pixel779</th>\n",
              "      <th>pixel780</th>\n",
              "      <th>pixel781</th>\n",
              "      <th>pixel782</th>\n",
              "      <th>pixel783</th>\n",
              "    </tr>\n",
              "  </thead>\n",
              "  <tbody>\n",
              "    <tr>\n",
              "      <th>0</th>\n",
              "      <td>0</td>\n",
              "      <td>0</td>\n",
              "      <td>0</td>\n",
              "      <td>0</td>\n",
              "      <td>0</td>\n",
              "      <td>0</td>\n",
              "      <td>0</td>\n",
              "      <td>0</td>\n",
              "      <td>0</td>\n",
              "      <td>0</td>\n",
              "      <td>...</td>\n",
              "      <td>0</td>\n",
              "      <td>0</td>\n",
              "      <td>0</td>\n",
              "      <td>0</td>\n",
              "      <td>0</td>\n",
              "      <td>0</td>\n",
              "      <td>0</td>\n",
              "      <td>0</td>\n",
              "      <td>0</td>\n",
              "      <td>0</td>\n",
              "    </tr>\n",
              "    <tr>\n",
              "      <th>1</th>\n",
              "      <td>0</td>\n",
              "      <td>0</td>\n",
              "      <td>0</td>\n",
              "      <td>0</td>\n",
              "      <td>0</td>\n",
              "      <td>0</td>\n",
              "      <td>0</td>\n",
              "      <td>0</td>\n",
              "      <td>0</td>\n",
              "      <td>0</td>\n",
              "      <td>...</td>\n",
              "      <td>0</td>\n",
              "      <td>0</td>\n",
              "      <td>0</td>\n",
              "      <td>0</td>\n",
              "      <td>0</td>\n",
              "      <td>0</td>\n",
              "      <td>0</td>\n",
              "      <td>0</td>\n",
              "      <td>0</td>\n",
              "      <td>0</td>\n",
              "    </tr>\n",
              "    <tr>\n",
              "      <th>2</th>\n",
              "      <td>0</td>\n",
              "      <td>0</td>\n",
              "      <td>0</td>\n",
              "      <td>0</td>\n",
              "      <td>0</td>\n",
              "      <td>0</td>\n",
              "      <td>0</td>\n",
              "      <td>0</td>\n",
              "      <td>0</td>\n",
              "      <td>0</td>\n",
              "      <td>...</td>\n",
              "      <td>0</td>\n",
              "      <td>0</td>\n",
              "      <td>0</td>\n",
              "      <td>0</td>\n",
              "      <td>0</td>\n",
              "      <td>0</td>\n",
              "      <td>0</td>\n",
              "      <td>0</td>\n",
              "      <td>0</td>\n",
              "      <td>0</td>\n",
              "    </tr>\n",
              "    <tr>\n",
              "      <th>3</th>\n",
              "      <td>0</td>\n",
              "      <td>0</td>\n",
              "      <td>0</td>\n",
              "      <td>0</td>\n",
              "      <td>0</td>\n",
              "      <td>0</td>\n",
              "      <td>0</td>\n",
              "      <td>0</td>\n",
              "      <td>0</td>\n",
              "      <td>0</td>\n",
              "      <td>...</td>\n",
              "      <td>0</td>\n",
              "      <td>0</td>\n",
              "      <td>0</td>\n",
              "      <td>0</td>\n",
              "      <td>0</td>\n",
              "      <td>0</td>\n",
              "      <td>0</td>\n",
              "      <td>0</td>\n",
              "      <td>0</td>\n",
              "      <td>0</td>\n",
              "    </tr>\n",
              "    <tr>\n",
              "      <th>4</th>\n",
              "      <td>0</td>\n",
              "      <td>0</td>\n",
              "      <td>0</td>\n",
              "      <td>0</td>\n",
              "      <td>0</td>\n",
              "      <td>0</td>\n",
              "      <td>0</td>\n",
              "      <td>0</td>\n",
              "      <td>0</td>\n",
              "      <td>0</td>\n",
              "      <td>...</td>\n",
              "      <td>0</td>\n",
              "      <td>0</td>\n",
              "      <td>0</td>\n",
              "      <td>0</td>\n",
              "      <td>0</td>\n",
              "      <td>0</td>\n",
              "      <td>0</td>\n",
              "      <td>0</td>\n",
              "      <td>0</td>\n",
              "      <td>0</td>\n",
              "    </tr>\n",
              "  </tbody>\n",
              "</table>\n",
              "<p>5 rows × 784 columns</p>\n",
              "</div>"
            ],
            "text/plain": [
              "   pixel0  pixel1  pixel2  pixel3  pixel4  pixel5  pixel6  pixel7  pixel8  \\\n",
              "0       0       0       0       0       0       0       0       0       0   \n",
              "1       0       0       0       0       0       0       0       0       0   \n",
              "2       0       0       0       0       0       0       0       0       0   \n",
              "3       0       0       0       0       0       0       0       0       0   \n",
              "4       0       0       0       0       0       0       0       0       0   \n",
              "\n",
              "   pixel9    ...     pixel774  pixel775  pixel776  pixel777  pixel778  \\\n",
              "0       0    ...            0         0         0         0         0   \n",
              "1       0    ...            0         0         0         0         0   \n",
              "2       0    ...            0         0         0         0         0   \n",
              "3       0    ...            0         0         0         0         0   \n",
              "4       0    ...            0         0         0         0         0   \n",
              "\n",
              "   pixel779  pixel780  pixel781  pixel782  pixel783  \n",
              "0         0         0         0         0         0  \n",
              "1         0         0         0         0         0  \n",
              "2         0         0         0         0         0  \n",
              "3         0         0         0         0         0  \n",
              "4         0         0         0         0         0  \n",
              "\n",
              "[5 rows x 784 columns]"
            ]
          },
          "metadata": {
            "tags": []
          },
          "execution_count": 7
        }
      ]
    },
    {
      "metadata": {
        "id": "sewFQiFaX4sK",
        "colab_type": "code",
        "colab": {}
      },
      "cell_type": "code",
      "source": [
        "# Partition the training data into pixels (independent variable) and label (dependent variable)\n",
        "X = np.asarray(df_tr.drop('label',axis=1),dtype=np.float32).reshape(-1,28,28)\n",
        "yhat = np.asarray(df_tr['label'])\n",
        "\n",
        "# Generate random indices for creating a random validation set with 20% of the labelled data\n",
        "validx = (np.random.uniform(size=len(X)) <= 0.2)\n",
        "\n",
        "# Create training set (80% of the labelled data)\n",
        "X_trn = X[~validx]\n",
        "y_trn = yhat[~validx]\n",
        "\n",
        "# Create validation set (20% of the labelled data)\n",
        "X_val = X[validx]\n",
        "y_val = yhat[validx]\n",
        "\n",
        "# Create the test set\n",
        "X_tes = np.asarray(df_te,dtype=np.float32).reshape(-1,28,28)"
      ],
      "execution_count": 0,
      "outputs": []
    },
    {
      "metadata": {
        "id": "AYJm-qZ5X4sM",
        "colab_type": "text"
      },
      "cell_type": "markdown",
      "source": [
        "# 3. Visualize some of the data items\n",
        "1. import matplotlib\n",
        "2. Visualize the first few data items and verify the corresponding labels match"
      ]
    },
    {
      "metadata": {
        "id": "zLmx7lQtX4sM",
        "colab_type": "code",
        "colab": {
          "base_uri": "https://localhost:8080/",
          "height": 97
        },
        "outputId": "56061222-b942-4911-bf73-d38694a3a183"
      },
      "cell_type": "code",
      "source": [
        "# Concatenate nvis images horizontally and visualize it using matplot lib\n",
        "import matplotlib.pyplot as plt\n",
        "nvis = 12\n",
        "plt.imshow(np.concatenate(X_trn[:nvis],axis=1),cmap='gray',vmin=0,vmax=255)\n",
        "plt.show()\n",
        "\n",
        "# Print the corresponding labels to check they match\n",
        "y_trn[:nvis]"
      ],
      "execution_count": 9,
      "outputs": [
        {
          "output_type": "display_data",
          "data": {
            "image/png": "[encoded data removed]",
            "text/plain": [
              "<Figure size 432x288 with 1 Axes>"
            ]
          },
          "metadata": {
            "tags": []
          }
        },
        {
          "output_type": "execute_result",
          "data": {
            "text/plain": [
              "array([1, 0, 1, 4, 0, 7, 3, 5, 9, 1, 3, 3])"
            ]
          },
          "metadata": {
            "tags": []
          },
          "execution_count": 9
        }
      ]
    },
    {
      "metadata": {
        "id": "K3AZDjAeX4sP",
        "colab_type": "text"
      },
      "cell_type": "markdown",
      "source": [
        "# 4. Create a fully connected neural network in pytorch\n",
        "\n",
        "We follow the same steps as in [assignment 4](https://github.com/dilthoms/ai-ml-assignments/blob/master/AI-ML-Libs/sklearn-pytorch.ipynb)"
      ]
    },
    {
      "metadata": {
        "id": "LaKRhtfYX4sS",
        "colab_type": "code",
        "colab": {}
      },
      "cell_type": "code",
      "source": [
        "import torch\n",
        "import torch.nn as nn\n",
        "import torch.nn.functional as F\n",
        "from torch.autograd import Variable\n",
        "\n",
        "# Create a class and define the layers in the __init__\n",
        "# and implement the forward propagation. Pytorch will automatically\n",
        "# calculate the backward propagation for you. \n",
        "\n",
        "class SingleHidden_NN(nn.Module):\n",
        "    '''\n",
        "    A Neural Network with a single hidden layer.\n",
        "    ''' \n",
        "    \n",
        "    # Create a constructor and define the layers and activations\n",
        "    def __init__(self, input_size,hidden_size,output_size):\n",
        "        '''\n",
        "        Arguments:\n",
        "            input_size  : The number of neurons in the input layer\n",
        "            hidden_size : The number of neurons in the hidden layer\n",
        "            output_size : The number of neurons in the output layer\n",
        "        '''\n",
        "        super(SingleHidden_NN, self).__init__()\n",
        "        self.input_size = input_size\n",
        "      \n",
        "        # Define a pytorch linear layer that connects the input layer to the hidden layer\n",
        "        self.layer1 = nn.Linear(input_size, hidden_size)\n",
        "        # Define a pytorch linear layer that connects the hidden layer to the output layer\n",
        "        self.layer2 = nn.Linear(hidden_size, output_size)\n",
        "        \n",
        "\n",
        "         \n",
        "    def forward(self, x):\n",
        "      '''\n",
        "      Implement forward propagation with relu activation for the hidden layer.\n",
        "      Arguments:\n",
        "          x      : The input x\n",
        "      Returns:\n",
        "          output : The linear activation from the output layer\n",
        "      '''\n",
        "      output = self.layer2(F.relu(self.layer1(x.view(-1,self.input_size))))\n",
        "      return output"
      ],
      "execution_count": 0,
      "outputs": []
    },
    {
      "metadata": {
        "id": "zyAd5JYtX4sV",
        "colab_type": "code",
        "colab": {}
      },
      "cell_type": "code",
      "source": [
        "# Create a Dataset subclass for loading datasets in numpy arrays\n",
        "# See https://pytorch.org/tutorials/beginner/data_loading_tutorial.html#dataset-class\n",
        "\n",
        "from torch.utils.data import Dataset, DataLoader\n",
        "\n",
        "class Numpy_XY_Dataset(Dataset):\n",
        "  '''\n",
        "  Dataset subclass for the MNIST digits dataset\n",
        "  '''\n",
        "  \n",
        "  def __init__(self,X,y):\n",
        "    '''\n",
        "    Create the independent and dependent variables\n",
        "    '''\n",
        "    super(Numpy_XY_Dataset,self).__init__()\n",
        "    self.X = X\n",
        "    self.y = y\n",
        "    assert(len(X)==len(y))\n",
        "    \n",
        "  def __len__(self):\n",
        "    '''\n",
        "    Return the size of the dataset\n",
        "    '''\n",
        "    return len(self.X)\n",
        "  \n",
        "  def __getitem__(self,idx):\n",
        "    '''\n",
        "    Return the data item at index idx\n",
        "    '''\n",
        "    return self.X[idx],self.y[idx]\n",
        "    "
      ],
      "execution_count": 0,
      "outputs": []
    },
    {
      "metadata": {
        "id": "-1Pcr-vfX4sb",
        "colab_type": "code",
        "colab": {
          "base_uri": "https://localhost:8080/",
          "height": 737
        },
        "outputId": "63ee39aa-13b8-46fc-82d8-f70437de64e1"
      },
      "cell_type": "code",
      "source": [
        "# Write training loop"
      ],
      "execution_count": 23,
      "outputs": [
        {
          "output_type": "stream",
          "text": [
            "Epoch [0/20], Train loss: 0.1476\n",
            "Epoch [0/20], Val acc: 0.9311\n",
            "Epoch [1/20], Train loss: 0.1225\n",
            "Epoch [1/20], Val acc: 0.9472\n",
            "Epoch [2/20], Train loss: 0.0611\n",
            "Epoch [2/20], Val acc: 0.9516\n",
            "Epoch [3/20], Train loss: 0.0487\n",
            "Epoch [3/20], Val acc: 0.9571\n",
            "Epoch [4/20], Train loss: 0.0757\n",
            "Epoch [4/20], Val acc: 0.9534\n",
            "Epoch [5/20], Train loss: 0.0354\n",
            "Epoch [5/20], Val acc: 0.9597\n",
            "Epoch [6/20], Train loss: 0.0126\n",
            "Epoch [6/20], Val acc: 0.9587\n",
            "Epoch [7/20], Train loss: 0.0486\n",
            "Epoch [7/20], Val acc: 0.9620\n",
            "Epoch [8/20], Train loss: 0.0575\n",
            "Epoch [8/20], Val acc: 0.9622\n",
            "Epoch [9/20], Train loss: 0.0853\n",
            "Epoch [9/20], Val acc: 0.9537\n",
            "Epoch [10/20], Train loss: 0.0177\n",
            "Epoch [10/20], Val acc: 0.9591\n",
            "Epoch [11/20], Train loss: 0.0047\n",
            "Epoch [11/20], Val acc: 0.9615\n",
            "Epoch [12/20], Train loss: 0.0483\n",
            "Epoch [12/20], Val acc: 0.9619\n",
            "Epoch [13/20], Train loss: 0.0272\n",
            "Epoch [13/20], Val acc: 0.9642\n",
            "Epoch [14/20], Train loss: 0.1104\n",
            "Epoch [14/20], Val acc: 0.9577\n",
            "Epoch [15/20], Train loss: 0.0468\n",
            "Epoch [15/20], Val acc: 0.9591\n",
            "Epoch [16/20], Train loss: 0.0447\n",
            "Epoch [16/20], Val acc: 0.9646\n",
            "Epoch [17/20], Train loss: 0.0009\n",
            "Epoch [17/20], Val acc: 0.9604\n",
            "Epoch [18/20], Train loss: 0.0266\n",
            "Epoch [18/20], Val acc: 0.9690\n",
            "Epoch [19/20], Train loss: 0.0189\n",
            "Epoch [19/20], Val acc: 0.9652\n"
          ],
          "name": "stdout"
        }
      ]
    },
    {
      "metadata": {
        "id": "60e3Y7L4X4sc",
        "colab_type": "code",
        "colab": {}
      },
      "cell_type": "code",
      "source": [
        "# Generate predictions using the trained model\n",
        "# TODO: use dataloader for X_tes. Works for now since it is small\n",
        "with torch.no_grad():\n",
        "  _,res = torch.max(model(torch.from_numpy(X_tes)),1)"
      ],
      "execution_count": 0,
      "outputs": []
    },
    {
      "metadata": {
        "id": "Z_SI7RHOX4se",
        "colab_type": "code",
        "colab": {}
      },
      "cell_type": "code",
      "source": [
        "# Convert the results to a pandas dataframe\n",
        "sub = pd.DataFrame({\"ImageId\":np.arange(1,28001),\"Label\":res})\n",
        "\n",
        "# Create the submission csv file from the dataframe\n",
        "sub.to_csv(\"sub.csv\",index=False)"
      ],
      "execution_count": 0,
      "outputs": []
    },
    {
      "metadata": {
        "id": "s0Bw8d7_X4sg",
        "colab_type": "code",
        "colab": {
          "base_uri": "https://localhost:8080/",
          "height": 53
        },
        "outputId": "e39ffbc7-9f96-4506-fd2e-d611d81670a5"
      },
      "cell_type": "code",
      "source": [
        "# Submit the csv file to kaggle using the kaggle api\n",
        "!kaggle competitions submit -c digit-recognizer -f sub.csv -m \"submission1\"\n",
        "\n"
      ],
      "execution_count": 26,
      "outputs": [
        {
          "output_type": "stream",
          "text": [
            "100% 208k/208k [00:02<00:00, 91.7kB/s]\n",
            "Successfully submitted to Digit Recognizer"
          ],
          "name": "stdout"
        }
      ]
    },
    {
      "metadata": {
        "id": "gE9E05D8ZuFZ",
        "colab_type": "code",
        "colab": {}
      },
      "cell_type": "code",
      "source": [
        ""
      ],
      "execution_count": 0,
      "outputs": []
    }
  ]
}